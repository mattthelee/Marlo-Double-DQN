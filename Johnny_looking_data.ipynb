{
 "cells": [
  {
   "cell_type": "code",
   "execution_count": 3,
   "metadata": {},
   "outputs": [
    {
     "name": "stdout",
     "output_type": "stream",
     "text": [
      "Length of QTable: 157\n"
     ]
    }
   ],
   "source": [
    "import math\n",
    "import json\n",
    "from pprint import pprint\n",
    "import numpy as np \n",
    "import matplotlib.pyplot as plt \n",
    "from numpy import genfromtxt\n",
    "import os\n",
    "\n",
    "with open('QTable.json') as f:\n",
    "    Qtable = json.load(f)\n",
    "print(\"Length of QTable: \" + str(len(Qtable)))"
   ]
  },
  {
   "cell_type": "code",
   "execution_count": 9,
   "metadata": {},
   "outputs": [
    {
     "name": "stdout",
     "output_type": "stream",
     "text": [
      "[0, 2, 1, 3, 4, 5, 6]\n",
      "[0, 2, 4, 1, 3, 5, 6]\n",
      "[0, 270, 90, 180]\n",
      "Qlearning_data_2/QTable_Alpha_0_1_Gamma_0_5_Decay_0_99.json\n",
      "Length of QTable: 201\n"
     ]
    },
    {
     "data": {
      "image/png": "[encoded data removed]",
      "text/plain": [
       "<Figure size 432x288 with 1 Axes>"
      ]
     },
     "metadata": {
      "needs_background": "light"
     },
     "output_type": "display_data"
    }
   ],
   "source": [
    "file_list = [\n",
    "    \"Qlearning_data_2/QTable_Alpha_0_1_Gamma_0_5_Decay_0_99.json\"\n",
    "]\n",
    "\n",
    "xs = []; zs = []; yaws = []\n",
    "for key in Qtable:\n",
    "    values = key.split(\":\")\n",
    "    x = int(values[0])\n",
    "    z = int(values[1])\n",
    "    yaw = int(values[2])\n",
    "    if x not in xs: xs.append(x)\n",
    "    if z not in zs: zs.append(z)\n",
    "    if yaw not in yaws: yaws.append(yaw)\n",
    "    \n",
    "print(xs); print(zs); print(yaws)\n",
    "\n",
    "\n",
    "def printGrid(xs,zs,Qtable):\n",
    "\n",
    "    xLen = max(xs); zLen = max(zs);  \n",
    "    grid = np.ones(((xLen+1)*36,(zLen+1)*36))\n",
    "    block = np.ones((int(36),int(36)))\n",
    "\n",
    "    for key in Qtable:\n",
    "        values = key.split(\":\")\n",
    "        x = float(values[0])\n",
    "        z = float(values[1])\n",
    "        reward = max(Qtable[key])\n",
    "\n",
    "        gridXStart = int(x*36)\n",
    "        gridXEnd = int(x*36 + 36)\n",
    "        gridZStart = int(z*36)\n",
    "        gridZEnd = int(z*36 + 36)\n",
    "\n",
    "        grid[gridXStart:gridXEnd,gridZStart:gridZEnd] += block*(reward/4)\n",
    "\n",
    "    ax = plt.axes()\n",
    "    ax.imshow(grid)\n",
    "\n",
    "    ax.set_xticks([(i*36 + 18 ) for i in range(xLen+1)])\n",
    "    ax.set_xticklabels([str(i) for i in range(xLen+1)])\n",
    "    ax.set_yticks([(i*36 + 18 ) for i in range(xLen+1)])\n",
    "    ax.set_yticklabels([str(i) for i in range(xLen+1)])\n",
    "    \n",
    "    \n",
    "\n",
    "for file in file_list:\n",
    "    print(file)\n",
    "    with open(file) as f:\n",
    "        Qtable = json.load(f)\n",
    "    print(\"Length of QTable: \" + str(len(Qtable)))\n",
    "    printGrid(xs,zs,Qtable)"
   ]
  },
  {
   "cell_type": "code",
   "execution_count": null,
   "metadata": {},
   "outputs": [],
   "source": []
  }
 ],
 "metadata": {
  "kernelspec": {
   "display_name": "Python 3",
   "language": "python",
   "name": "python3"
  },
  "language_info": {
   "codemirror_mode": {
    "name": "ipython",
    "version": 3
   },
   "file_extension": ".py",
   "mimetype": "text/x-python",
   "name": "python",
   "nbconvert_exporter": "python",
   "pygments_lexer": "ipython3",
   "version": "3.7.0"
  }
 },
 "nbformat": 4,
 "nbformat_minor": 2
}
