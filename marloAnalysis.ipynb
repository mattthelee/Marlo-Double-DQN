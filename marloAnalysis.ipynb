{
 "cells": [
  {
   "cell_type": "code",
   "execution_count": 369,
   "metadata": {},
   "outputs": [
    {
     "name": "stdout",
     "output_type": "stream",
     "text": [
      "Length of QTable: 201\n"
     ]
    }
   ],
   "source": [
    "import math\n",
    "import json\n",
    "from pprint import pprint\n",
    "with open('QTable.json') as f:\n",
    "    Qtable = json.load(f)\n",
    "print(\"Length of QTable: \" + str(len(Qtable)))"
   ]
  },
  {
   "cell_type": "code",
   "execution_count": 368,
   "metadata": {},
   "outputs": [],
   "source": [
    "for key in Qtable:\n",
    "    for value in Qtable[key]:\n",
    "        if value > 0:\n",
    "            print(value)\n",
    "    "
   ]
  },
  {
   "cell_type": "code",
   "execution_count": 324,
   "metadata": {},
   "outputs": [
    {
     "name": "stdout",
     "output_type": "stream",
     "text": [
      "[1, 2, 3, 4, 5, 6, 0]\n",
      "[0, 1, 2, 3, 4, 5, 6]\n",
      "[0, 270, 180, 90]\n"
     ]
    }
   ],
   "source": [
    "xs = []; zs = []; yaws = []\n",
    "for key in Qtable:\n",
    "    x = int(key[0])\n",
    "    z = int(key[2])\n",
    "    yaw = int(key[4:len(key)])\n",
    "    if x not in xs: xs.append(x)\n",
    "    if z not in zs: zs.append(z)\n",
    "    if yaw not in yaws: yaws.append(yaw)\n",
    "        \n",
    "print(xs); print(zs); print(yaws)"
   ]
  },
  {
   "cell_type": "code",
   "execution_count": 364,
   "metadata": {},
   "outputs": [
    {
     "data": {
      "text/plain": [
       "6"
      ]
     },
     "execution_count": 364,
     "metadata": {},
     "output_type": "execute_result"
    }
   ],
   "source": [
    "max(xs)"
   ]
  },
  {
   "cell_type": "code",
   "execution_count": 366,
   "metadata": {},
   "outputs": [
    {
     "data": {
      "text/plain": [
       "[Text(0,0,'0'),\n",
       " Text(0,0,'1'),\n",
       " Text(0,0,'2'),\n",
       " Text(0,0,'3'),\n",
       " Text(0,0,'4'),\n",
       " Text(0,0,'5'),\n",
       " Text(0,0,'6')]"
      ]
     },
     "execution_count": 366,
     "metadata": {},
     "output_type": "execute_result"
    },
    {
     "data": {
      "image/png": "[encoded data removed]",
      "text/plain": [
       "<Figure size 432x288 with 1 Axes>"
      ]
     },
     "metadata": {},
     "output_type": "display_data"
    }
   ],
   "source": [
    "xLen = max(xs); zLen = max(zs);  \n",
    "grid = np.ones(((xLen+1)*36,(zLen+1)*36))\n",
    "block = np.ones((int(36),int(36)))\n",
    "\n",
    "for key in Qtable:\n",
    "    x = float(key[0])\n",
    "    z = float(key[2])\n",
    "    reward = max(Qtable[key])\n",
    "    amendReward = (reward)\n",
    "    \n",
    "    gridXStart = int(x*36)\n",
    "    gridXEnd = int(x*36 + 36)\n",
    "    gridZStart = int(z*36)\n",
    "    gridZEnd = int(z*36 + 36)\n",
    "\n",
    "    grid[gridXStart:gridXEnd,gridZStart:gridZEnd] += block*(amendReward/8)\n",
    "    \n",
    "ax = plt.axes()\n",
    "ax.imshow(grid)\n",
    "\n",
    "\n",
    "\n",
    "ax.set_xticks([(i*36 + 18 ) for i in range(xLen+1)])\n",
    "ax.set_xticklabels([\"0\",\"1\",\"2\",\"3\",\"4\",\"5\",\"6\"])\n",
    "ax.set_yticks([(i*36 + 18 ) for i in range(xLen+1)])\n",
    "ax.set_yticklabels([\"0\",\"1\",\"2\",\"3\",\"4\",\"5\",\"6\"])\n"
   ]
  },
  {
   "cell_type": "code",
   "execution_count": null,
   "metadata": {},
   "outputs": [],
   "source": [
    "ax.set_xticks([18,54,90,126,162,198,234])\n",
    "ax.set_xticklabels([\"0\",\"1\",\"2\",\"3\",\"4\",\"5\",\"6\"])\n",
    "ax.set_yticks([18,54,90,126,162,198,234])\n",
    "ax.set_yticklabels([\"0\",\"1\",\"2\",\"3\",\"4\",\"5\",\"6\"])"
   ]
  },
  {
   "cell_type": "code",
   "execution_count": null,
   "metadata": {},
   "outputs": [],
   "source": [
    "[str(i) for i in ]"
   ]
  },
  {
   "cell_type": "code",
   "execution_count": 367,
   "metadata": {},
   "outputs": [
    {
     "data": {
      "text/plain": [
       "[18, 54, 90, 126, 162, 198, 234]"
      ]
     },
     "execution_count": 367,
     "metadata": {},
     "output_type": "execute_result"
    }
   ],
   "source": [
    "[(i*36 + 18 ) for i in range(xLen+1)]"
   ]
  },
  {
   "cell_type": "code",
   "execution_count": 358,
   "metadata": {},
   "outputs": [],
   "source": [
    "from matplotlib import pyplot as plt\n",
    "from numpy import genfromtxt\n",
    "import numpy as np\n",
    "file = 'qlearningResults.csv'\n",
    "my_data = genfromtxt(file, delimiter=',')\n",
    "y = [x[0] for x in my_data]\n",
    "epsilon = [x[-1] for x in my_data]\n"
   ]
  },
  {
   "cell_type": "code",
   "execution_count": 359,
   "metadata": {},
   "outputs": [
    {
     "name": "stdout",
     "output_type": "stream",
     "text": [
      "[-2.4999999904632393, -0.9699999904632579, -1.6599999904632554, -0.6599999904632576, -1.90999999046325]\n"
     ]
    }
   ],
   "source": [
    "print(y)\n"
   ]
  },
  {
   "cell_type": "code",
   "execution_count": 360,
   "metadata": {},
   "outputs": [
    {
     "data": {
      "text/plain": [
       "[<matplotlib.lines.Line2D at 0x23ebda7db38>]"
      ]
     },
     "execution_count": 360,
     "metadata": {},
     "output_type": "execute_result"
    },
    {
     "data": {
      "image/png": "[encoded data removed]",
      "text/plain": [
       "<Figure size 432x288 with 1 Axes>"
      ]
     },
     "metadata": {},
     "output_type": "display_data"
    }
   ],
   "source": [
    "plt.plot(y) # Plot shown when learning with epsilon decay at 0.99"
   ]
  },
  {
   "cell_type": "code",
   "execution_count": 355,
   "metadata": {},
   "outputs": [
    {
     "data": {
      "text/plain": [
       "[<matplotlib.lines.Line2D at 0x23ebda2a630>]"
      ]
     },
     "execution_count": 355,
     "metadata": {},
     "output_type": "execute_result"
    },
    {
     "data": {
      "image/png": "[encoded data removed]",
      "text/plain": [
       "<Figure size 432x288 with 1 Axes>"
      ]
     },
     "metadata": {},
     "output_type": "display_data"
    }
   ],
   "source": [
    "plt.plot(epsilon)"
   ]
  },
  {
   "cell_type": "code",
   "execution_count": 5,
   "metadata": {},
   "outputs": [
    {
     "name": "stdout",
     "output_type": "stream",
     "text": [
      "-3.4881818094916923\n"
     ]
    },
    {
     "data": {
      "image/png": "[encoded data removed]",
      "text/plain": [
       "<Figure size 432x288 with 1 Axes>"
      ]
     },
     "metadata": {},
     "output_type": "display_data"
    }
   ],
   "source": [
    "plt.plot(y) # Run when epsilon set to 0 and loaded from q table built from previous 2 runs\n",
    "print(np.mean(y))"
   ]
  },
  {
   "cell_type": "code",
   "execution_count": null,
   "metadata": {},
   "outputs": [],
   "source": []
  }
 ],
 "metadata": {
  "kernelspec": {
   "display_name": "Python 3",
   "language": "python",
   "name": "python3"
  },
  "language_info": {
   "codemirror_mode": {
    "name": "ipython",
    "version": 3
   },
   "file_extension": ".py",
   "mimetype": "text/x-python",
   "name": "python",
   "nbconvert_exporter": "python",
   "pygments_lexer": "ipython3",
   "version": "3.6.5"
  }
 },
 "nbformat": 4,
 "nbformat_minor": 2
}
