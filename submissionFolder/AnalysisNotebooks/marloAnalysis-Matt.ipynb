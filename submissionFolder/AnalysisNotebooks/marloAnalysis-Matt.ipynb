{
 "cells": [
  {
   "cell_type": "code",
   "execution_count": 2,
   "metadata": {
    "scrolled": false
   },
   "outputs": [],
   "source": [
    "import math\n",
    "import json\n",
    "from pprint import pprint\n",
    "import numpy as np \n",
    "import matplotlib.pyplot as plt \n",
    "from numpy import genfromtxt\n",
    "import os\n",
    "import math\n"
   ]
  },
  {
   "cell_type": "code",
   "execution_count": 44,
   "metadata": {},
   "outputs": [
    {
     "name": "stderr",
     "output_type": "stream",
     "text": [
      "/home/leem/anaconda3/lib/python3.6/site-packages/numpy/core/fromnumeric.py:2957: RuntimeWarning: Mean of empty slice.\n",
      "  out=out, **kwargs)\n",
      "/home/leem/anaconda3/lib/python3.6/site-packages/numpy/core/_methods.py:80: RuntimeWarning: invalid value encountered in double_scalars\n",
      "  ret = ret.dtype.type(ret / rcount)\n"
     ]
    },
    {
     "name": "stdout",
     "output_type": "stream",
     "text": [
      "-1.0 0.16999999999999998 [-0.37, -1.0, -1.0, 0.16999999999999998, -1.0, -1.0, -1.0, -1.0, -0.19999999999999996, -1.0, -1.0, -0.27, -1.0, 0.04999999999999999, -1.0, -0.08999999999999997, -1.0, 0.12, -1.0, -1.0]\n",
      "527\n"
     ]
    },
    {
     "data": {
      "image/png": "[encoded data removed]",
      "text/plain": [
       "<Figure size 432x288 with 1 Axes>"
      ]
     },
     "metadata": {},
     "output_type": "display_data"
    }
   ],
   "source": [
    "def plotAverageErrorScores(file_list):\n",
    "\n",
    "    lineNames = []\n",
    "    colors = [\"red\",\"purple\",\"brown\"]\n",
    "    for j,fileBunch in enumerate(file_list):\n",
    "        allScores = []\n",
    "        for file in fileBunch:\n",
    "            alphaTrue,gammaTrue = findAlphaGamme(file)\n",
    "            my_data = genfromtxt(file, delimiter=',')\n",
    "            scores = [x[0] for x in my_data if math.isnan(x[0]) != True]\n",
    "            \n",
    "            scores = scores[-25:]\n",
    "            \n",
    "            averageScores = []\n",
    "            for i,score in enumerate(scores):\n",
    "                averageScores.append((sum(scores[:(i+1)])/(i+1)))\n",
    "            allScores.append(averageScores)\n",
    "            avScore = []\n",
    "            minScore = []\n",
    "            maxScore = []\n",
    "            x = []\n",
    "\n",
    "        for i in range(np.shape(allScores)[1]):\n",
    "            avScore.append((allScores[0][i]+allScores[1][i]+allScores[2][i])/3) \n",
    "            minScore.append(min(allScores[0][i],allScores[1][i],allScores[2][i]))\n",
    "            maxScore.append(max(allScores[0][i],allScores[1][i],allScores[2][i]))\n",
    "            x.append(i+1)\n",
    "        \n",
    "        lineName = (\"Alpha:%s,Gamma:%s\"%(alphaTrue,gammaTrue))\n",
    "        lineNames.append(lineName)\n",
    "        plt.plot(x,avScore,color = colors[j])\n",
    "        plt.fill_between(x,minScore,maxScore, alpha=0.3,color = colors[j])\n",
    "        \n",
    "        print(\"Final Average Score for Alpha:%s;Gamma:%s: %0.2f\"%(alphaTrue,gammaTrue,avScore[-1]))\n",
    "        \n",
    "        \n",
    "    plt.legend(lineNames,loc='lower right')\n",
    "    plt.axhline(0,color='grey',linestyle='--')\n",
    "    #plt.xlim([150,205])\n",
    "    plt.ylim([-6.5,0.4])\n",
    "    \n",
    "    plt.title(\"Average Rewards for Testing - Find The Goal\");\n",
    "    #plt.title(\"Average Rewards for Training - Find The Goal\");\n",
    "    plt.ylabel(\"Average Rewards\");\n",
    "    #plt.xlabel(\"Training Steps\");\n",
    "    plt.xlabel(\"Testing Episodes\");\n",
    "    \n",
    "def plotAverageWithErrors(file):\n",
    "    my_data = genfromtxt(file, delimiter=',')\n",
    "    scores = [x[0]/100000 for x in my_data]\n",
    "    #Correct miscoring\n",
    "    scores = [x + 0.5 if x> -1.0 else x for x in scores]\n",
    "    time = [x[2] for x in my_data]\n",
    "    epsilon = [x[-1] for x in my_data]\n",
    "    \n",
    "    averagingWindow = 50\n",
    "    averageScores = [np.mean(scores[:x]) for x in range(averagingWindow)]\n",
    "\n",
    "    for i in range(averagingWindow,len(scores)):\n",
    "        avg = np.mean(scores[i-averagingWindow:i])\n",
    "        averageScores.append(avg)\n",
    "        \n",
    "    errorWindow = 20\n",
    "    upperScores = [max(scores[:x]) for x in range(1,errorWindow)]\n",
    "    lowerScores = [min(scores[:x]) for x in range(1,errorWindow)]\n",
    "\n",
    "    for j in range(errorWindow,len(scores)):\n",
    "        upper = max(scores[j-errorWindow:j])\n",
    "        lower = min(scores[j-errorWindow:j])\n",
    "        if j == 50:\n",
    "            print(lower,upper,scores[j-errorWindow:j])\n",
    "        upperScores.append(upper)\n",
    "        lowerScores.append(lower)\n",
    "    #print(averageScores)\n",
    "    #print(upperScores)\n",
    "    #print(lowerScores)\n",
    "    plt.plot(averageScores)\n",
    "    plt.plot(upperScores)\n",
    "    plt.plot(lowerScores)\n",
    "    plt.fill_between(range(len(upperScores)),upperScores,lowerScores, alpha=0.3)\n",
    "    print(len(scores)) \n",
    "    \n",
    "plotAverageWithErrors(\"./experimentaldqn/totalresults.csv\")\n",
    "\n",
    "    \n",
    "        \n",
    "        \n",
    "    \n",
    "    \n",
    "    "
   ]
  },
  {
   "cell_type": "code",
   "execution_count": 2,
   "metadata": {
    "scrolled": true
   },
   "outputs": [],
   "source": [
    "def plotScores(file):\n",
    "    \n",
    "    #alphaTrue,gammaTrue = findAlphaGamme(file)\n",
    "        \n",
    "    my_data = genfromtxt(file, delimiter=',')\n",
    "    scores = [x[0] for x in my_data]\n",
    "    time = [x[2] for x in my_data]\n",
    "    epsilon = [x[-1] for x in my_data]\n",
    "    \n",
    "    #scores = scores[-50:]\n",
    "    \n",
    "    #print(\"\\nAlpha:%s;Gamma:%s\"%(alphaTrue,gammaTrue))\n",
    "    print(\"Games: \" , str(len(scores)), \" - Average Time: \", str(sum(time)/len(scores)))\n",
    "    print(\"Average reward for the last 20 games: %.2f with an epsilon of %.2f\" % (sum(scores[-20:])/min(len(scores),20), epsilon[-1]))\n",
    "    plt.plot(scores);\n",
    "\n",
    "    lowCount = 0\n",
    "    highCount = 0\n",
    "    for score in scores:\n",
    "        if score < -2.4:\n",
    "            lowCount += 1\n",
    "        if score > 0:\n",
    "            highCount += 1\n",
    "    print(\"Scores that have reached over 0: %s out of %s\"%(highCount,len(scores)))\n",
    "    print(\"Scores that have reached -2.5: %s out of %s\"%(lowCount,len(scores)))\n",
    "    \n",
    "    averageScores = []\n",
    "    for i,score in enumerate(scores):\n",
    "        averageScores.append((sum(scores[:(i+1)])/(i+1)))\n",
    "\n",
    "    \n",
    "    plt.plot(averageScores);\n",
    "    #plt.title(\"Scores for %s games - total average score is %.3f\"%(len(averageScores),averageScores[-1]));\n",
    "    plt.xlabel(\"Game\");\n",
    "    plt.ylabel(\"Score\");\n",
    "    plt.axhline(0,color='grey',linestyle='--')\n",
    "    plt.legend([\"Score\",\"Average Score\"])\n",
    "    \n",
    "    "
   ]
  },
  {
   "cell_type": "code",
   "execution_count": 19,
   "metadata": {},
   "outputs": [],
   "source": [
    "def plotdqnScores(file):\n",
    "    \n",
    "    #alphaTrue,gammaTrue = findAlphaGamme(file)\n",
    "        \n",
    "    my_data = genfromtxt(file, delimiter=',')\n",
    "    scores = [x[0]/100000 for x in my_data]\n",
    "    #Correct miscoring\n",
    "    scores = [x + 0.5 if x> -1.0 else x for x in scores]\n",
    "    time = [x[2] for x in my_data]\n",
    "    epsilon = [x[-1] for x in my_data]\n",
    "    \n",
    "    #scores = scores[-50:]\n",
    "    print(f\"Max {max(scores)}\")\n",
    "    print(f\"Min {min(scores)}\")\n",
    "\n",
    "    #print(\"\\nAlpha:%s;Gamma:%s\"%(alphaTrue,gammaTrue))\n",
    "    print(\"Games: \" , str(len(scores)), \" - Average Time: \", str(sum(time)/len(scores)))\n",
    "    print(\"Average reward for the last 20 games: %.2f with an epsilon of %.2f\" % (sum(scores[-20:])/min(len(scores),20), epsilon[-1]))\n",
    "    reducedScores = scores[0::5]\n",
    "    plt.plot(range(3*len(scores)\n",
    "\n",
    "    lowCount = 0\n",
    "    highCount = 0\n",
    "    for score in scores:\n",
    "        if score < -2.4:\n",
    "            lowCount += 1\n",
    "        if score > 0:\n",
    "            highCount += 1\n",
    "    print(\"Scores that have reached over 0: %s out of %s\"%(highCount,len(scores)))\n",
    "    print(\"Scores that have reached -2.5: %s out of %s\"%(lowCount,len(scores)))\n",
    "    \n",
    "    averagingWindow = 50\n",
    "    averageScores = [np.mean(scores[:x]) for x in range(averagingWindow)]\n",
    "    for i in range(averagingWindow,len(scores)):\n",
    "        avg = np.mean(scores[i-averagingWindow:i])\n",
    "        averageScores.append(avg)\n",
    "\n",
    "    \n",
    "    plt.plot(averageScores);\n",
    "    #plt.title(\"Scores for %s games - total average score is %.3f\"%(len(averageScores),averageScores[-1]));\n",
    "    plt.xlabel(\"Game\");\n",
    "    plt.ylabel(\"Score\");\n",
    "    plt.axhline(0,color='grey',linestyle='--')\n",
    "    "
   ]
  },
  {
   "cell_type": "code",
   "execution_count": 20,
   "metadata": {},
   "outputs": [
    {
     "name": "stdout",
     "output_type": "stream",
     "text": [
      "Max 0.46\n",
      "Min -1.0\n",
      "Games:  527  - Average Time:  635.5825426944972\n",
      "Average reward for the last 20 games: 0.31 with an epsilon of 0.00\n",
      "Scores that have reached over 0: 244 out of 527\n",
      "Scores that have reached -2.5: 0 out of 527\n"
     ]
    },
    {
     "name": "stderr",
     "output_type": "stream",
     "text": [
      "/home/leem/anaconda3/lib/python3.6/site-packages/numpy/core/fromnumeric.py:2957: RuntimeWarning: Mean of empty slice.\n",
      "  out=out, **kwargs)\n",
      "/home/leem/anaconda3/lib/python3.6/site-packages/numpy/core/_methods.py:80: RuntimeWarning: invalid value encountered in double_scalars\n",
      "  ret = ret.dtype.type(ret / rcount)\n"
     ]
    },
    {
     "data": {
      "image/png": "[encoded data removed]",
      "text/plain": [
       "<Figure size 432x288 with 1 Axes>"
      ]
     },
     "metadata": {},
     "output_type": "display_data"
    }
   ],
   "source": [
    "#plotScores(\"Results_Alpha_0_8_Gamma_1_Decay_0_98.csv\")\n",
    "plotdqnScores(\"./experimentaldqn/totalresults.csv\")"
   ]
  },
  {
   "cell_type": "code",
   "execution_count": 47,
   "metadata": {},
   "outputs": [
    {
     "name": "stdout",
     "output_type": "stream",
     "text": [
      "Max 0.0799999999999998\n",
      "Min -1.0000000000000007\n",
      "Games:  934  - Average Time:  950.0460385438972\n",
      "Average reward for the last 20 games: -1.00 with an epsilon of 0.00\n",
      "Scores that have reached over 0: 1 out of 934\n",
      "Scores that have reached -2.5: 0 out of 934\n"
     ]
    },
    {
     "name": "stderr",
     "output_type": "stream",
     "text": [
      "/home/leem/anaconda3/lib/python3.6/site-packages/numpy/core/fromnumeric.py:2957: RuntimeWarning: Mean of empty slice.\n",
      "  out=out, **kwargs)\n",
      "/home/leem/anaconda3/lib/python3.6/site-packages/numpy/core/_methods.py:80: RuntimeWarning: invalid value encountered in double_scalars\n",
      "  ret = ret.dtype.type(ret / rcount)\n"
     ]
    },
    {
     "data": {
      "image/png": "[encoded data removed]",
      "text/plain": [
       "<Figure size 432x288 with 1 Axes>"
      ]
     },
     "metadata": {},
     "output_type": "display_data"
    }
   ],
   "source": [
    "def plotsimpledqnScores(file):\n",
    "    \n",
    "    #alphaTrue,gammaTrue = findAlphaGamme(file)\n",
    "        \n",
    "    my_data = genfromtxt(file, delimiter=',')\n",
    "    scores = [x[0] for x in my_data]\n",
    "    #Correct miscoring\n",
    "    scores = [x + 0.5 if x> -1.0 else x for x in scores]\n",
    "    time = [x[2] for x in my_data]\n",
    "    epsilon = [x[-1] for x in my_data]\n",
    "    \n",
    "    #scores = scores[-50:]\n",
    "    print(f\"Max {max(scores)}\")\n",
    "    print(f\"Min {min(scores)}\")\n",
    "\n",
    "    #print(\"\\nAlpha:%s;Gamma:%s\"%(alphaTrue,gammaTrue))\n",
    "    print(\"Games: \" , str(len(scores)), \" - Average Time: \", str(sum(time)/len(scores)))\n",
    "    print(\"Average reward for the last 20 games: %.2f with an epsilon of %.2f\" % (sum(scores[-20:])/min(len(scores),20), epsilon[-1]))\n",
    "    plt.plot(scores);\n",
    "\n",
    "    lowCount = 0\n",
    "    highCount = 0\n",
    "    for score in scores:\n",
    "        if score < -2.4:\n",
    "            lowCount += 1\n",
    "        if score > 0:\n",
    "            highCount += 1\n",
    "    print(\"Scores that have reached over 0: %s out of %s\"%(highCount,len(scores)))\n",
    "    print(\"Scores that have reached -2.5: %s out of %s\"%(lowCount,len(scores)))\n",
    "    \n",
    "    averagingWindow = 50\n",
    "    averageScores = [np.mean(scores[:x]) for x in range(averagingWindow)]\n",
    "    for i in range(averagingWindow,len(scores)):\n",
    "        avg = np.mean(scores[i-averagingWindow:i])\n",
    "        averageScores.append(avg)\n",
    "\n",
    "    \n",
    "    plt.plot(averageScores);\n",
    "    #plt.title(\"Scores for %s games - total average score is %.3f\"%(len(averageScores),averageScores[-1]));\n",
    "    plt.xlabel(\"Game\");\n",
    "    plt.ylabel(\"Score\");\n",
    "    plt.axhline(0,color='grey',linestyle='--')\n",
    "    \n",
    "plotsimpledqnScores(\"./simpledqngoal/dqn_bot_934_results.csv\")"
   ]
  },
  {
   "cell_type": "code",
   "execution_count": null,
   "metadata": {},
   "outputs": [],
   "source": []
  }
 ],
 "metadata": {
  "kernelspec": {
   "display_name": "Python 3",
   "language": "python",
   "name": "python3"
  },
  "language_info": {
   "codemirror_mode": {
    "name": "ipython",
    "version": 3
   },
   "file_extension": ".py",
   "mimetype": "text/x-python",
   "name": "python",
   "nbconvert_exporter": "python",
   "pygments_lexer": "ipython3",
   "version": "3.6.5"
  }
 },
 "nbformat": 4,
 "nbformat_minor": 2
}
